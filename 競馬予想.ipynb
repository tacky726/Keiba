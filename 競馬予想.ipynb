{
  "nbformat": 4,
  "nbformat_minor": 0,
  "metadata": {
    "colab": {
      "provenance": [],
      "authorship_tag": "ABX9TyNloBS/akdyOvLZABoqJ/z2",
      "include_colab_link": true
    },
    "kernelspec": {
      "name": "python3",
      "display_name": "Python 3"
    },
    "language_info": {
      "name": "python"
    },
    "widgets": {
      "application/vnd.jupyter.widget-state+json": {
        "15a7572392e84276ab60774a62a6383b": {
          "model_module": "@jupyter-widgets/controls",
          "model_name": "HBoxModel",
          "model_module_version": "1.5.0",
          "state": {
            "_dom_classes": [],
            "_model_module": "@jupyter-widgets/controls",
            "_model_module_version": "1.5.0",
            "_model_name": "HBoxModel",
            "_view_count": null,
            "_view_module": "@jupyter-widgets/controls",
            "_view_module_version": "1.5.0",
            "_view_name": "HBoxView",
            "box_style": "",
            "children": [
              "IPY_MODEL_e2fbfffc44484c3db6fdfe83def5b33d",
              "IPY_MODEL_50e24b430f7b4f1ab34e2cfffb835e47",
              "IPY_MODEL_247b1135fdcf445f800adaa1f072c5b9"
            ],
            "layout": "IPY_MODEL_40205915d25e4303bb18c92593a8165f"
          }
        },
        "e2fbfffc44484c3db6fdfe83def5b33d": {
          "model_module": "@jupyter-widgets/controls",
          "model_name": "HTMLModel",
          "model_module_version": "1.5.0",
          "state": {
            "_dom_classes": [],
            "_model_module": "@jupyter-widgets/controls",
            "_model_module_version": "1.5.0",
            "_model_name": "HTMLModel",
            "_view_count": null,
            "_view_module": "@jupyter-widgets/controls",
            "_view_module_version": "1.5.0",
            "_view_name": "HTMLView",
            "description": "",
            "description_tooltip": null,
            "layout": "IPY_MODEL_6ff6db0a5dc74a6bbc48c6838ae0812b",
            "placeholder": "​",
            "style": "IPY_MODEL_6321409b2f94468ca4e6e13f628f295d",
            "value": "Processing: 100%"
          }
        },
        "50e24b430f7b4f1ab34e2cfffb835e47": {
          "model_module": "@jupyter-widgets/controls",
          "model_name": "FloatProgressModel",
          "model_module_version": "1.5.0",
          "state": {
            "_dom_classes": [],
            "_model_module": "@jupyter-widgets/controls",
            "_model_module_version": "1.5.0",
            "_model_name": "FloatProgressModel",
            "_view_count": null,
            "_view_module": "@jupyter-widgets/controls",
            "_view_module_version": "1.5.0",
            "_view_name": "ProgressView",
            "bar_style": "",
            "description": "",
            "description_tooltip": null,
            "layout": "IPY_MODEL_c845bc87d0b54f84bbc5125534e4eb6b",
            "max": 4,
            "min": 0,
            "orientation": "horizontal",
            "style": "IPY_MODEL_03ad0906e273477d925b13958b5a5d41",
            "value": 4
          }
        },
        "247b1135fdcf445f800adaa1f072c5b9": {
          "model_module": "@jupyter-widgets/controls",
          "model_name": "HTMLModel",
          "model_module_version": "1.5.0",
          "state": {
            "_dom_classes": [],
            "_model_module": "@jupyter-widgets/controls",
            "_model_module_version": "1.5.0",
            "_model_name": "HTMLModel",
            "_view_count": null,
            "_view_module": "@jupyter-widgets/controls",
            "_view_module_version": "1.5.0",
            "_view_name": "HTMLView",
            "description": "",
            "description_tooltip": null,
            "layout": "IPY_MODEL_545662ed40c544ab81614aea5d36e437",
            "placeholder": "​",
            "style": "IPY_MODEL_6d11642fa7b74969ac0947838d3d70ce",
            "value": " 4/4 [01:36&lt;00:00, 22.31s/it]"
          }
        },
        "40205915d25e4303bb18c92593a8165f": {
          "model_module": "@jupyter-widgets/base",
          "model_name": "LayoutModel",
          "model_module_version": "1.2.0",
          "state": {
            "_model_module": "@jupyter-widgets/base",
            "_model_module_version": "1.2.0",
            "_model_name": "LayoutModel",
            "_view_count": null,
            "_view_module": "@jupyter-widgets/base",
            "_view_module_version": "1.2.0",
            "_view_name": "LayoutView",
            "align_content": null,
            "align_items": null,
            "align_self": null,
            "border": null,
            "bottom": null,
            "display": null,
            "flex": null,
            "flex_flow": null,
            "grid_area": null,
            "grid_auto_columns": null,
            "grid_auto_flow": null,
            "grid_auto_rows": null,
            "grid_column": null,
            "grid_gap": null,
            "grid_row": null,
            "grid_template_areas": null,
            "grid_template_columns": null,
            "grid_template_rows": null,
            "height": null,
            "justify_content": null,
            "justify_items": null,
            "left": null,
            "margin": null,
            "max_height": null,
            "max_width": null,
            "min_height": null,
            "min_width": null,
            "object_fit": null,
            "object_position": null,
            "order": null,
            "overflow": null,
            "overflow_x": null,
            "overflow_y": null,
            "padding": null,
            "right": null,
            "top": null,
            "visibility": "hidden",
            "width": null
          }
        },
        "6ff6db0a5dc74a6bbc48c6838ae0812b": {
          "model_module": "@jupyter-widgets/base",
          "model_name": "LayoutModel",
          "model_module_version": "1.2.0",
          "state": {
            "_model_module": "@jupyter-widgets/base",
            "_model_module_version": "1.2.0",
            "_model_name": "LayoutModel",
            "_view_count": null,
            "_view_module": "@jupyter-widgets/base",
            "_view_module_version": "1.2.0",
            "_view_name": "LayoutView",
            "align_content": null,
            "align_items": null,
            "align_self": null,
            "border": null,
            "bottom": null,
            "display": null,
            "flex": null,
            "flex_flow": null,
            "grid_area": null,
            "grid_auto_columns": null,
            "grid_auto_flow": null,
            "grid_auto_rows": null,
            "grid_column": null,
            "grid_gap": null,
            "grid_row": null,
            "grid_template_areas": null,
            "grid_template_columns": null,
            "grid_template_rows": null,
            "height": null,
            "justify_content": null,
            "justify_items": null,
            "left": null,
            "margin": null,
            "max_height": null,
            "max_width": null,
            "min_height": null,
            "min_width": null,
            "object_fit": null,
            "object_position": null,
            "order": null,
            "overflow": null,
            "overflow_x": null,
            "overflow_y": null,
            "padding": null,
            "right": null,
            "top": null,
            "visibility": null,
            "width": null
          }
        },
        "6321409b2f94468ca4e6e13f628f295d": {
          "model_module": "@jupyter-widgets/controls",
          "model_name": "DescriptionStyleModel",
          "model_module_version": "1.5.0",
          "state": {
            "_model_module": "@jupyter-widgets/controls",
            "_model_module_version": "1.5.0",
            "_model_name": "DescriptionStyleModel",
            "_view_count": null,
            "_view_module": "@jupyter-widgets/base",
            "_view_module_version": "1.2.0",
            "_view_name": "StyleView",
            "description_width": ""
          }
        },
        "c845bc87d0b54f84bbc5125534e4eb6b": {
          "model_module": "@jupyter-widgets/base",
          "model_name": "LayoutModel",
          "model_module_version": "1.2.0",
          "state": {
            "_model_module": "@jupyter-widgets/base",
            "_model_module_version": "1.2.0",
            "_model_name": "LayoutModel",
            "_view_count": null,
            "_view_module": "@jupyter-widgets/base",
            "_view_module_version": "1.2.0",
            "_view_name": "LayoutView",
            "align_content": null,
            "align_items": null,
            "align_self": null,
            "border": null,
            "bottom": null,
            "display": null,
            "flex": null,
            "flex_flow": null,
            "grid_area": null,
            "grid_auto_columns": null,
            "grid_auto_flow": null,
            "grid_auto_rows": null,
            "grid_column": null,
            "grid_gap": null,
            "grid_row": null,
            "grid_template_areas": null,
            "grid_template_columns": null,
            "grid_template_rows": null,
            "height": null,
            "justify_content": null,
            "justify_items": null,
            "left": null,
            "margin": null,
            "max_height": null,
            "max_width": null,
            "min_height": null,
            "min_width": null,
            "object_fit": null,
            "object_position": null,
            "order": null,
            "overflow": null,
            "overflow_x": null,
            "overflow_y": null,
            "padding": null,
            "right": null,
            "top": null,
            "visibility": null,
            "width": null
          }
        },
        "03ad0906e273477d925b13958b5a5d41": {
          "model_module": "@jupyter-widgets/controls",
          "model_name": "ProgressStyleModel",
          "model_module_version": "1.5.0",
          "state": {
            "_model_module": "@jupyter-widgets/controls",
            "_model_module_version": "1.5.0",
            "_model_name": "ProgressStyleModel",
            "_view_count": null,
            "_view_module": "@jupyter-widgets/base",
            "_view_module_version": "1.2.0",
            "_view_name": "StyleView",
            "bar_color": null,
            "description_width": ""
          }
        },
        "545662ed40c544ab81614aea5d36e437": {
          "model_module": "@jupyter-widgets/base",
          "model_name": "LayoutModel",
          "model_module_version": "1.2.0",
          "state": {
            "_model_module": "@jupyter-widgets/base",
            "_model_module_version": "1.2.0",
            "_model_name": "LayoutModel",
            "_view_count": null,
            "_view_module": "@jupyter-widgets/base",
            "_view_module_version": "1.2.0",
            "_view_name": "LayoutView",
            "align_content": null,
            "align_items": null,
            "align_self": null,
            "border": null,
            "bottom": null,
            "display": null,
            "flex": null,
            "flex_flow": null,
            "grid_area": null,
            "grid_auto_columns": null,
            "grid_auto_flow": null,
            "grid_auto_rows": null,
            "grid_column": null,
            "grid_gap": null,
            "grid_row": null,
            "grid_template_areas": null,
            "grid_template_columns": null,
            "grid_template_rows": null,
            "height": null,
            "justify_content": null,
            "justify_items": null,
            "left": null,
            "margin": null,
            "max_height": null,
            "max_width": null,
            "min_height": null,
            "min_width": null,
            "object_fit": null,
            "object_position": null,
            "order": null,
            "overflow": null,
            "overflow_x": null,
            "overflow_y": null,
            "padding": null,
            "right": null,
            "top": null,
            "visibility": null,
            "width": null
          }
        },
        "6d11642fa7b74969ac0947838d3d70ce": {
          "model_module": "@jupyter-widgets/controls",
          "model_name": "DescriptionStyleModel",
          "model_module_version": "1.5.0",
          "state": {
            "_model_module": "@jupyter-widgets/controls",
            "_model_module_version": "1.5.0",
            "_model_name": "DescriptionStyleModel",
            "_view_count": null,
            "_view_module": "@jupyter-widgets/base",
            "_view_module_version": "1.2.0",
            "_view_name": "StyleView",
            "description_width": ""
          }
        }
      }
    }
  },
  "cells": [
    {
      "cell_type": "markdown",
      "metadata": {
        "id": "view-in-github",
        "colab_type": "text"
      },
      "source": [
        "<a href=\"https://colab.research.google.com/github/tacky726/uma/blob/main/%E7%AB%B6%E9%A6%AC%E4%BA%88%E6%83%B3.ipynb\" target=\"_parent\"><img src=\"https://colab.research.google.com/assets/colab-badge.svg\" alt=\"Open In Colab\"/></a>"
      ]
    },
    {
      "cell_type": "code",
      "execution_count": null,
      "metadata": {
        "colab": {
          "base_uri": "https://localhost:8080/"
        },
        "id": "7jy0WWbHZhpD",
        "outputId": "b197d99a-664b-4742-f029-181d3ffd40e0"
      },
      "outputs": [
        {
          "output_type": "stream",
          "name": "stdout",
          "text": [
            "Drive already mounted at /content/drive; to attempt to forcibly remount, call drive.mount(\"/content/drive\", force_remount=True).\n",
            "/content/drive/MyDrive\n",
            "Requirement already satisfied: pycaret in /usr/local/lib/python3.10/dist-packages (3.3.2)\n",
            "Requirement already satisfied: ipython>=5.5.0 in /usr/local/lib/python3.10/dist-packages (from pycaret) (7.34.0)\n",
            "Requirement already satisfied: ipywidgets>=7.6.5 in /usr/local/lib/python3.10/dist-packages (from pycaret) (7.7.1)\n",
            "Requirement already satisfied: tqdm>=4.62.0 in /usr/local/lib/python3.10/dist-packages (from pycaret) (4.66.5)\n",
            "Requirement already satisfied: numpy<1.27,>=1.21 in /usr/local/lib/python3.10/dist-packages (from pycaret) (1.26.4)\n",
            "Requirement already satisfied: pandas<2.2.0 in /usr/local/lib/python3.10/dist-packages (from pycaret) (2.1.4)\n",
            "Requirement already satisfied: jinja2>=3 in /usr/local/lib/python3.10/dist-packages (from pycaret) (3.1.4)\n",
            "Requirement already satisfied: scipy<=1.11.4,>=1.6.1 in /usr/local/lib/python3.10/dist-packages (from pycaret) (1.11.4)\n",
            "Requirement already satisfied: joblib<1.4,>=1.2.0 in /usr/local/lib/python3.10/dist-packages (from pycaret) (1.3.2)\n",
            "Requirement already satisfied: scikit-learn>1.4.0 in /usr/local/lib/python3.10/dist-packages (from pycaret) (1.4.2)\n",
            "Requirement already satisfied: pyod>=1.1.3 in /usr/local/lib/python3.10/dist-packages (from pycaret) (2.0.1)\n",
            "Requirement already satisfied: imbalanced-learn>=0.12.0 in /usr/local/lib/python3.10/dist-packages (from pycaret) (0.12.3)\n",
            "Requirement already satisfied: category-encoders>=2.4.0 in /usr/local/lib/python3.10/dist-packages (from pycaret) (2.6.3)\n",
            "Requirement already satisfied: lightgbm>=3.0.0 in /usr/local/lib/python3.10/dist-packages (from pycaret) (4.4.0)\n",
            "Requirement already satisfied: numba>=0.55.0 in /usr/local/lib/python3.10/dist-packages (from pycaret) (0.60.0)\n",
            "Requirement already satisfied: requests>=2.27.1 in /usr/local/lib/python3.10/dist-packages (from pycaret) (2.32.3)\n",
            "Requirement already satisfied: psutil>=5.9.0 in /usr/local/lib/python3.10/dist-packages (from pycaret) (5.9.5)\n",
            "Requirement already satisfied: markupsafe>=2.0.1 in /usr/local/lib/python3.10/dist-packages (from pycaret) (2.1.5)\n",
            "Requirement already satisfied: importlib-metadata>=4.12.0 in /usr/local/lib/python3.10/dist-packages (from pycaret) (8.2.0)\n",
            "Requirement already satisfied: nbformat>=4.2.0 in /usr/local/lib/python3.10/dist-packages (from pycaret) (5.10.4)\n",
            "Requirement already satisfied: cloudpickle in /usr/local/lib/python3.10/dist-packages (from pycaret) (2.2.1)\n",
            "Requirement already satisfied: deprecation>=2.1.0 in /usr/local/lib/python3.10/dist-packages (from pycaret) (2.1.0)\n",
            "Requirement already satisfied: xxhash in /usr/local/lib/python3.10/dist-packages (from pycaret) (3.5.0)\n",
            "Requirement already satisfied: matplotlib<3.8.0 in /usr/local/lib/python3.10/dist-packages (from pycaret) (3.7.1)\n",
            "Requirement already satisfied: scikit-plot>=0.3.7 in /usr/local/lib/python3.10/dist-packages (from pycaret) (0.3.7)\n",
            "Requirement already satisfied: yellowbrick>=1.4 in /usr/local/lib/python3.10/dist-packages (from pycaret) (1.5)\n",
            "Requirement already satisfied: plotly>=5.14.0 in /usr/local/lib/python3.10/dist-packages (from pycaret) (5.15.0)\n",
            "Requirement already satisfied: kaleido>=0.2.1 in /usr/local/lib/python3.10/dist-packages (from pycaret) (0.2.1)\n",
            "Requirement already satisfied: schemdraw==0.15 in /usr/local/lib/python3.10/dist-packages (from pycaret) (0.15)\n",
            "Requirement already satisfied: plotly-resampler>=0.8.3.1 in /usr/local/lib/python3.10/dist-packages (from pycaret) (0.10.0)\n",
            "Requirement already satisfied: statsmodels>=0.12.1 in /usr/local/lib/python3.10/dist-packages (from pycaret) (0.14.2)\n",
            "Requirement already satisfied: sktime==0.26.0 in /usr/local/lib/python3.10/dist-packages (from pycaret) (0.26.0)\n",
            "Requirement already satisfied: tbats>=1.1.3 in /usr/local/lib/python3.10/dist-packages (from pycaret) (1.1.3)\n",
            "Requirement already satisfied: pmdarima>=2.0.4 in /usr/local/lib/python3.10/dist-packages (from pycaret) (2.0.4)\n",
            "Requirement already satisfied: wurlitzer in /usr/local/lib/python3.10/dist-packages (from pycaret) (3.1.1)\n",
            "Requirement already satisfied: packaging in /usr/local/lib/python3.10/dist-packages (from sktime==0.26.0->pycaret) (24.1)\n",
            "Requirement already satisfied: scikit-base<0.8.0 in /usr/local/lib/python3.10/dist-packages (from sktime==0.26.0->pycaret) (0.7.8)\n",
            "Requirement already satisfied: patsy>=0.5.1 in /usr/local/lib/python3.10/dist-packages (from category-encoders>=2.4.0->pycaret) (0.5.6)\n",
            "Requirement already satisfied: threadpoolctl>=2.0.0 in /usr/local/lib/python3.10/dist-packages (from imbalanced-learn>=0.12.0->pycaret) (3.5.0)\n",
            "Requirement already satisfied: zipp>=0.5 in /usr/local/lib/python3.10/dist-packages (from importlib-metadata>=4.12.0->pycaret) (3.20.0)\n",
            "Requirement already satisfied: setuptools>=18.5 in /usr/local/lib/python3.10/dist-packages (from ipython>=5.5.0->pycaret) (71.0.4)\n",
            "Requirement already satisfied: jedi>=0.16 in /usr/local/lib/python3.10/dist-packages (from ipython>=5.5.0->pycaret) (0.19.1)\n",
            "Requirement already satisfied: decorator in /usr/local/lib/python3.10/dist-packages (from ipython>=5.5.0->pycaret) (4.4.2)\n",
            "Requirement already satisfied: pickleshare in /usr/local/lib/python3.10/dist-packages (from ipython>=5.5.0->pycaret) (0.7.5)\n",
            "Requirement already satisfied: traitlets>=4.2 in /usr/local/lib/python3.10/dist-packages (from ipython>=5.5.0->pycaret) (5.7.1)\n",
            "Requirement already satisfied: prompt-toolkit!=3.0.0,!=3.0.1,<3.1.0,>=2.0.0 in /usr/local/lib/python3.10/dist-packages (from ipython>=5.5.0->pycaret) (3.0.47)\n",
            "Requirement already satisfied: pygments in /usr/local/lib/python3.10/dist-packages (from ipython>=5.5.0->pycaret) (2.16.1)\n",
            "Requirement already satisfied: backcall in /usr/local/lib/python3.10/dist-packages (from ipython>=5.5.0->pycaret) (0.2.0)\n",
            "Requirement already satisfied: matplotlib-inline in /usr/local/lib/python3.10/dist-packages (from ipython>=5.5.0->pycaret) (0.1.7)\n",
            "Requirement already satisfied: pexpect>4.3 in /usr/local/lib/python3.10/dist-packages (from ipython>=5.5.0->pycaret) (4.9.0)\n",
            "Requirement already satisfied: ipykernel>=4.5.1 in /usr/local/lib/python3.10/dist-packages (from ipywidgets>=7.6.5->pycaret) (5.5.6)\n",
            "Requirement already satisfied: ipython-genutils~=0.2.0 in /usr/local/lib/python3.10/dist-packages (from ipywidgets>=7.6.5->pycaret) (0.2.0)\n",
            "Requirement already satisfied: widgetsnbextension~=3.6.0 in /usr/local/lib/python3.10/dist-packages (from ipywidgets>=7.6.5->pycaret) (3.6.8)\n",
            "Requirement already satisfied: jupyterlab-widgets>=1.0.0 in /usr/local/lib/python3.10/dist-packages (from ipywidgets>=7.6.5->pycaret) (3.0.11)\n",
            "Requirement already satisfied: contourpy>=1.0.1 in /usr/local/lib/python3.10/dist-packages (from matplotlib<3.8.0->pycaret) (1.2.1)\n",
            "Requirement already satisfied: cycler>=0.10 in /usr/local/lib/python3.10/dist-packages (from matplotlib<3.8.0->pycaret) (0.12.1)\n",
            "Requirement already satisfied: fonttools>=4.22.0 in /usr/local/lib/python3.10/dist-packages (from matplotlib<3.8.0->pycaret) (4.53.1)\n",
            "Requirement already satisfied: kiwisolver>=1.0.1 in /usr/local/lib/python3.10/dist-packages (from matplotlib<3.8.0->pycaret) (1.4.5)\n",
            "Requirement already satisfied: pillow>=6.2.0 in /usr/local/lib/python3.10/dist-packages (from matplotlib<3.8.0->pycaret) (9.4.0)\n",
            "Requirement already satisfied: pyparsing>=2.3.1 in /usr/local/lib/python3.10/dist-packages (from matplotlib<3.8.0->pycaret) (3.1.2)\n",
            "Requirement already satisfied: python-dateutil>=2.7 in /usr/local/lib/python3.10/dist-packages (from matplotlib<3.8.0->pycaret) (2.8.2)\n",
            "Requirement already satisfied: fastjsonschema>=2.15 in /usr/local/lib/python3.10/dist-packages (from nbformat>=4.2.0->pycaret) (2.20.0)\n",
            "Requirement already satisfied: jsonschema>=2.6 in /usr/local/lib/python3.10/dist-packages (from nbformat>=4.2.0->pycaret) (4.23.0)\n",
            "Requirement already satisfied: jupyter-core!=5.0.*,>=4.12 in /usr/local/lib/python3.10/dist-packages (from nbformat>=4.2.0->pycaret) (5.7.2)\n",
            "Requirement already satisfied: llvmlite<0.44,>=0.43.0dev0 in /usr/local/lib/python3.10/dist-packages (from numba>=0.55.0->pycaret) (0.43.0)\n",
            "Requirement already satisfied: pytz>=2020.1 in /usr/local/lib/python3.10/dist-packages (from pandas<2.2.0->pycaret) (2024.1)\n",
            "Requirement already satisfied: tzdata>=2022.1 in /usr/local/lib/python3.10/dist-packages (from pandas<2.2.0->pycaret) (2024.1)\n",
            "Requirement already satisfied: tenacity>=6.2.0 in /usr/local/lib/python3.10/dist-packages (from plotly>=5.14.0->pycaret) (9.0.0)\n",
            "Requirement already satisfied: dash>=2.9.0 in /usr/local/lib/python3.10/dist-packages (from plotly-resampler>=0.8.3.1->pycaret) (2.17.1)\n",
            "Requirement already satisfied: orjson<4.0.0,>=3.8.0 in /usr/local/lib/python3.10/dist-packages (from plotly-resampler>=0.8.3.1->pycaret) (3.10.7)\n",
            "Requirement already satisfied: tsdownsample>=0.1.3 in /usr/local/lib/python3.10/dist-packages (from plotly-resampler>=0.8.3.1->pycaret) (0.1.3)\n",
            "Requirement already satisfied: Cython!=0.29.18,!=0.29.31,>=0.29 in /usr/local/lib/python3.10/dist-packages (from pmdarima>=2.0.4->pycaret) (3.0.11)\n",
            "Requirement already satisfied: urllib3 in /usr/local/lib/python3.10/dist-packages (from pmdarima>=2.0.4->pycaret) (2.0.7)\n",
            "Requirement already satisfied: charset-normalizer<4,>=2 in /usr/local/lib/python3.10/dist-packages (from requests>=2.27.1->pycaret) (3.3.2)\n",
            "Requirement already satisfied: idna<4,>=2.5 in /usr/local/lib/python3.10/dist-packages (from requests>=2.27.1->pycaret) (3.7)\n",
            "Requirement already satisfied: certifi>=2017.4.17 in /usr/local/lib/python3.10/dist-packages (from requests>=2.27.1->pycaret) (2024.7.4)\n",
            "Requirement already satisfied: Flask<3.1,>=1.0.4 in /usr/local/lib/python3.10/dist-packages (from dash>=2.9.0->plotly-resampler>=0.8.3.1->pycaret) (2.2.5)\n",
            "Requirement already satisfied: Werkzeug<3.1 in /usr/local/lib/python3.10/dist-packages (from dash>=2.9.0->plotly-resampler>=0.8.3.1->pycaret) (3.0.3)\n",
            "Requirement already satisfied: dash-html-components==2.0.0 in /usr/local/lib/python3.10/dist-packages (from dash>=2.9.0->plotly-resampler>=0.8.3.1->pycaret) (2.0.0)\n",
            "Requirement already satisfied: dash-core-components==2.0.0 in /usr/local/lib/python3.10/dist-packages (from dash>=2.9.0->plotly-resampler>=0.8.3.1->pycaret) (2.0.0)\n",
            "Requirement already satisfied: dash-table==5.0.0 in /usr/local/lib/python3.10/dist-packages (from dash>=2.9.0->plotly-resampler>=0.8.3.1->pycaret) (5.0.0)\n",
            "Requirement already satisfied: typing-extensions>=4.1.1 in /usr/local/lib/python3.10/dist-packages (from dash>=2.9.0->plotly-resampler>=0.8.3.1->pycaret) (4.12.2)\n",
            "Requirement already satisfied: retrying in /usr/local/lib/python3.10/dist-packages (from dash>=2.9.0->plotly-resampler>=0.8.3.1->pycaret) (1.3.4)\n",
            "Requirement already satisfied: nest-asyncio in /usr/local/lib/python3.10/dist-packages (from dash>=2.9.0->plotly-resampler>=0.8.3.1->pycaret) (1.6.0)\n",
            "Requirement already satisfied: jupyter-client in /usr/local/lib/python3.10/dist-packages (from ipykernel>=4.5.1->ipywidgets>=7.6.5->pycaret) (6.1.12)\n",
            "Requirement already satisfied: tornado>=4.2 in /usr/local/lib/python3.10/dist-packages (from ipykernel>=4.5.1->ipywidgets>=7.6.5->pycaret) (6.3.3)\n",
            "Requirement already satisfied: parso<0.9.0,>=0.8.3 in /usr/local/lib/python3.10/dist-packages (from jedi>=0.16->ipython>=5.5.0->pycaret) (0.8.4)\n",
            "Requirement already satisfied: attrs>=22.2.0 in /usr/local/lib/python3.10/dist-packages (from jsonschema>=2.6->nbformat>=4.2.0->pycaret) (24.2.0)\n",
            "Requirement already satisfied: jsonschema-specifications>=2023.03.6 in /usr/local/lib/python3.10/dist-packages (from jsonschema>=2.6->nbformat>=4.2.0->pycaret) (2023.12.1)\n",
            "Requirement already satisfied: referencing>=0.28.4 in /usr/local/lib/python3.10/dist-packages (from jsonschema>=2.6->nbformat>=4.2.0->pycaret) (0.35.1)\n",
            "Requirement already satisfied: rpds-py>=0.7.1 in /usr/local/lib/python3.10/dist-packages (from jsonschema>=2.6->nbformat>=4.2.0->pycaret) (0.20.0)\n",
            "Requirement already satisfied: platformdirs>=2.5 in /usr/local/lib/python3.10/dist-packages (from jupyter-core!=5.0.*,>=4.12->nbformat>=4.2.0->pycaret) (4.2.2)\n",
            "Requirement already satisfied: six in /usr/local/lib/python3.10/dist-packages (from patsy>=0.5.1->category-encoders>=2.4.0->pycaret) (1.16.0)\n",
            "Requirement already satisfied: ptyprocess>=0.5 in /usr/local/lib/python3.10/dist-packages (from pexpect>4.3->ipython>=5.5.0->pycaret) (0.7.0)\n",
            "Requirement already satisfied: wcwidth in /usr/local/lib/python3.10/dist-packages (from prompt-toolkit!=3.0.0,!=3.0.1,<3.1.0,>=2.0.0->ipython>=5.5.0->pycaret) (0.2.13)\n",
            "Requirement already satisfied: notebook>=4.4.1 in /usr/local/lib/python3.10/dist-packages (from widgetsnbextension~=3.6.0->ipywidgets>=7.6.5->pycaret) (6.5.5)\n",
            "Requirement already satisfied: itsdangerous>=2.0 in /usr/local/lib/python3.10/dist-packages (from Flask<3.1,>=1.0.4->dash>=2.9.0->plotly-resampler>=0.8.3.1->pycaret) (2.2.0)\n",
            "Requirement already satisfied: click>=8.0 in /usr/local/lib/python3.10/dist-packages (from Flask<3.1,>=1.0.4->dash>=2.9.0->plotly-resampler>=0.8.3.1->pycaret) (8.1.7)\n",
            "Requirement already satisfied: pyzmq<25,>=17 in /usr/local/lib/python3.10/dist-packages (from notebook>=4.4.1->widgetsnbextension~=3.6.0->ipywidgets>=7.6.5->pycaret) (24.0.1)\n",
            "Requirement already satisfied: argon2-cffi in /usr/local/lib/python3.10/dist-packages (from notebook>=4.4.1->widgetsnbextension~=3.6.0->ipywidgets>=7.6.5->pycaret) (23.1.0)\n",
            "Requirement already satisfied: nbconvert>=5 in /usr/local/lib/python3.10/dist-packages (from notebook>=4.4.1->widgetsnbextension~=3.6.0->ipywidgets>=7.6.5->pycaret) (6.5.4)\n",
            "Requirement already satisfied: Send2Trash>=1.8.0 in /usr/local/lib/python3.10/dist-packages (from notebook>=4.4.1->widgetsnbextension~=3.6.0->ipywidgets>=7.6.5->pycaret) (1.8.3)\n",
            "Requirement already satisfied: terminado>=0.8.3 in /usr/local/lib/python3.10/dist-packages (from notebook>=4.4.1->widgetsnbextension~=3.6.0->ipywidgets>=7.6.5->pycaret) (0.18.1)\n",
            "Requirement already satisfied: prometheus-client in /usr/local/lib/python3.10/dist-packages (from notebook>=4.4.1->widgetsnbextension~=3.6.0->ipywidgets>=7.6.5->pycaret) (0.20.0)\n",
            "Requirement already satisfied: nbclassic>=0.4.7 in /usr/local/lib/python3.10/dist-packages (from notebook>=4.4.1->widgetsnbextension~=3.6.0->ipywidgets>=7.6.5->pycaret) (1.1.0)\n",
            "Requirement already satisfied: notebook-shim>=0.2.3 in /usr/local/lib/python3.10/dist-packages (from nbclassic>=0.4.7->notebook>=4.4.1->widgetsnbextension~=3.6.0->ipywidgets>=7.6.5->pycaret) (0.2.4)\n",
            "Requirement already satisfied: lxml in /usr/local/lib/python3.10/dist-packages (from nbconvert>=5->notebook>=4.4.1->widgetsnbextension~=3.6.0->ipywidgets>=7.6.5->pycaret) (4.9.4)\n",
            "Requirement already satisfied: beautifulsoup4 in /usr/local/lib/python3.10/dist-packages (from nbconvert>=5->notebook>=4.4.1->widgetsnbextension~=3.6.0->ipywidgets>=7.6.5->pycaret) (4.12.3)\n",
            "Requirement already satisfied: bleach in /usr/local/lib/python3.10/dist-packages (from nbconvert>=5->notebook>=4.4.1->widgetsnbextension~=3.6.0->ipywidgets>=7.6.5->pycaret) (6.1.0)\n",
            "Requirement already satisfied: defusedxml in /usr/local/lib/python3.10/dist-packages (from nbconvert>=5->notebook>=4.4.1->widgetsnbextension~=3.6.0->ipywidgets>=7.6.5->pycaret) (0.7.1)\n",
            "Requirement already satisfied: entrypoints>=0.2.2 in /usr/local/lib/python3.10/dist-packages (from nbconvert>=5->notebook>=4.4.1->widgetsnbextension~=3.6.0->ipywidgets>=7.6.5->pycaret) (0.4)\n",
            "Requirement already satisfied: jupyterlab-pygments in /usr/local/lib/python3.10/dist-packages (from nbconvert>=5->notebook>=4.4.1->widgetsnbextension~=3.6.0->ipywidgets>=7.6.5->pycaret) (0.3.0)\n",
            "Requirement already satisfied: mistune<2,>=0.8.1 in /usr/local/lib/python3.10/dist-packages (from nbconvert>=5->notebook>=4.4.1->widgetsnbextension~=3.6.0->ipywidgets>=7.6.5->pycaret) (0.8.4)\n",
            "Requirement already satisfied: nbclient>=0.5.0 in /usr/local/lib/python3.10/dist-packages (from nbconvert>=5->notebook>=4.4.1->widgetsnbextension~=3.6.0->ipywidgets>=7.6.5->pycaret) (0.10.0)\n",
            "Requirement already satisfied: pandocfilters>=1.4.1 in /usr/local/lib/python3.10/dist-packages (from nbconvert>=5->notebook>=4.4.1->widgetsnbextension~=3.6.0->ipywidgets>=7.6.5->pycaret) (1.5.1)\n",
            "Requirement already satisfied: tinycss2 in /usr/local/lib/python3.10/dist-packages (from nbconvert>=5->notebook>=4.4.1->widgetsnbextension~=3.6.0->ipywidgets>=7.6.5->pycaret) (1.3.0)\n",
            "Requirement already satisfied: argon2-cffi-bindings in /usr/local/lib/python3.10/dist-packages (from argon2-cffi->notebook>=4.4.1->widgetsnbextension~=3.6.0->ipywidgets>=7.6.5->pycaret) (21.2.0)\n",
            "Requirement already satisfied: jupyter-server<3,>=1.8 in /usr/local/lib/python3.10/dist-packages (from notebook-shim>=0.2.3->nbclassic>=0.4.7->notebook>=4.4.1->widgetsnbextension~=3.6.0->ipywidgets>=7.6.5->pycaret) (1.24.0)\n",
            "Requirement already satisfied: cffi>=1.0.1 in /usr/local/lib/python3.10/dist-packages (from argon2-cffi-bindings->argon2-cffi->notebook>=4.4.1->widgetsnbextension~=3.6.0->ipywidgets>=7.6.5->pycaret) (1.17.0)\n",
            "Requirement already satisfied: soupsieve>1.2 in /usr/local/lib/python3.10/dist-packages (from beautifulsoup4->nbconvert>=5->notebook>=4.4.1->widgetsnbextension~=3.6.0->ipywidgets>=7.6.5->pycaret) (2.6)\n",
            "Requirement already satisfied: webencodings in /usr/local/lib/python3.10/dist-packages (from bleach->nbconvert>=5->notebook>=4.4.1->widgetsnbextension~=3.6.0->ipywidgets>=7.6.5->pycaret) (0.5.1)\n",
            "Requirement already satisfied: pycparser in /usr/local/lib/python3.10/dist-packages (from cffi>=1.0.1->argon2-cffi-bindings->argon2-cffi->notebook>=4.4.1->widgetsnbextension~=3.6.0->ipywidgets>=7.6.5->pycaret) (2.22)\n",
            "Requirement already satisfied: anyio<4,>=3.1.0 in /usr/local/lib/python3.10/dist-packages (from jupyter-server<3,>=1.8->notebook-shim>=0.2.3->nbclassic>=0.4.7->notebook>=4.4.1->widgetsnbextension~=3.6.0->ipywidgets>=7.6.5->pycaret) (3.7.1)\n",
            "Requirement already satisfied: websocket-client in /usr/local/lib/python3.10/dist-packages (from jupyter-server<3,>=1.8->notebook-shim>=0.2.3->nbclassic>=0.4.7->notebook>=4.4.1->widgetsnbextension~=3.6.0->ipywidgets>=7.6.5->pycaret) (1.8.0)\n",
            "Requirement already satisfied: sniffio>=1.1 in /usr/local/lib/python3.10/dist-packages (from anyio<4,>=3.1.0->jupyter-server<3,>=1.8->notebook-shim>=0.2.3->nbclassic>=0.4.7->notebook>=4.4.1->widgetsnbextension~=3.6.0->ipywidgets>=7.6.5->pycaret) (1.3.1)\n",
            "Requirement already satisfied: exceptiongroup in /usr/local/lib/python3.10/dist-packages (from anyio<4,>=3.1.0->jupyter-server<3,>=1.8->notebook-shim>=0.2.3->nbclassic>=0.4.7->notebook>=4.4.1->widgetsnbextension~=3.6.0->ipywidgets>=7.6.5->pycaret) (1.2.2)\n"
          ]
        }
      ],
      "source": [
        "# ライブラリの読み込み\n",
        "import numpy as np\n",
        "import pandas as pd\n",
        "import matplotlib.pyplot as plt\n",
        "import seaborn as sns\n",
        "\n",
        "import warnings\n",
        "from sklearn.preprocessing import MinMaxScaler\n",
        "warnings.filterwarnings('ignore')\n",
        "\n",
        "from google.colab import drive\n",
        "drive.mount('/content/drive')\n",
        "# %cd 以降にこのnotebookを置いているディレクトリを指定してください。\n",
        "%cd \"/content/drive/MyDrive\"\n",
        "import pandas as pd\n",
        "!pip install pycaret\n",
        "from pycaret.classification import setup, compare_models,  create_model\n",
        "from pycaret.regression import *"
      ]
    },
    {
      "cell_type": "code",
      "source": [
        "# netkeibaからスクレイピングしたデータを読み込む\n",
        "df2019 = pd.read_csv(\"2019.csv\", encoding=\"SHIFT_JIS\")\n",
        "df2020 = pd.read_csv(\"2020.csv\", encoding=\"SHIFT_JIS\")\n",
        "df2021 = pd.read_csv(\"2021.csv\", encoding=\"SHIFT_JIS\")\n",
        "df2022 = pd.read_csv(\"2022.csv\", encoding=\"SHIFT_JIS\")\n",
        "df2023 = pd.read_csv(\"2023.csv\", encoding=\"SHIFT_JIS\")\n",
        "df2024 = pd.read_csv(\"2024.csv\", encoding=\"SHIFT_JIS\")\n",
        "\n",
        "df = pd.concat([df2019, df2020, df2021, df2022,df2023,df2024], ignore_index=True)"
      ],
      "metadata": {
        "id": "GQatiIbliBbZ"
      },
      "execution_count": null,
      "outputs": []
    },
    {
      "cell_type": "code",
      "source": [
        "# '日付'列をdatetime型に変換 (日本語形式のフォーマット指定)\n",
        "df['日付'] = pd.to_datetime(df['日付'], format='%Y年%m月%d日')\n",
        "\n",
        "# 日付順に並べ替え\n",
        "df = df.sort_values(by='日付')"
      ],
      "metadata": {
        "id": "D9zuK0t62iA8"
      },
      "execution_count": null,
      "outputs": []
    },
    {
      "cell_type": "code",
      "source": [
        "# 機械学習しやすいようにデータを整える\n",
        "cols = ['馬番','オッズ','着順','体重','体重変化','齢','斤量','上がり','人気','距離','場id']\n",
        "\n",
        "# 時刻データをdatetime型に変換\n",
        "df['走破時間'] = pd.to_datetime(df['走破時間'], format='%M:%S.%f')\n",
        "\n",
        "# 時間を秒数に変換\n",
        "df['走破時間'] = df['走破時間'].dt.hour * 3600 + df['走破時間'].dt.minute * 60 + df['走破時間'].dt.second\n",
        "\n",
        "# 各カラムに対して pd.to_numeric を適用\n",
        "df[cols] = df[cols].apply(pd.to_numeric, errors='coerce')"
      ],
      "metadata": {
        "id": "myCr1q3BEGmP"
      },
      "execution_count": null,
      "outputs": []
    },
    {
      "cell_type": "code",
      "source": [
        "# 走破時間を秒に変換する関数\n",
        "def convert_to_seconds(time_str):\n",
        "    if isinstance(time_str, str):\n",
        "        minutes, seconds = time_str.split(':')\n",
        "        total_seconds = int(minutes) * 60 + float(seconds)\n",
        "        return total_seconds\n",
        "    return time_str  # 文字列でない場合はそのまま返す\n",
        "\n",
        "# 走破時間列を秒に変換\n",
        "df['走破時間_秒'] = df['走破時間'].apply(convert_to_seconds)"
      ],
      "metadata": {
        "id": "o1MYJZKJtWDl"
      },
      "execution_count": null,
      "outputs": []
    },
    {
      "cell_type": "code",
      "source": [
        "# 秒速という新しいデータを作り出す\n",
        "df['秒速'] = df['距離'] / df['走破時間_秒']"
      ],
      "metadata": {
        "id": "MLHbhYFfvddZ"
      },
      "execution_count": null,
      "outputs": []
    },
    {
      "cell_type": "markdown",
      "source": [],
      "metadata": {
        "id": "Q-8VJtvjiU0Q"
      }
    },
    {
      "cell_type": "code",
      "source": [
        "# 秒速を調整して新しいデータを作り出す\n",
        "\n",
        "# 全体平均秒速\n",
        "全体平均秒速 = df['秒速'].mean()\n",
        "\n",
        "# 距離ごとの平均秒速\n",
        "距離ごとの平均秒速 = df.groupby('距離')['秒速'].mean()\n",
        "\n",
        "# 距離ごとの平均秒速\n",
        "芝ダートの平均秒速 = df.groupby('芝・ダート')['秒速'].mean()\n",
        "\n",
        "馬場の平均秒速 = df.groupby('馬場')['秒速'].mean()\n",
        "\n",
        "天気の平均秒速 = df.groupby('天気')['秒速'].mean()\n",
        "\n",
        "場idの平均秒速 = df.groupby('場id')['秒速'].mean()\n",
        "# 調整値を距離ごとに計算\n",
        "df['調整後秒速'] = df['秒速'] * ( 全体平均秒速/df['距離'].map(距離ごとの平均秒速))*( 全体平均秒速/df['芝・ダート'].map(芝ダートの平均秒速))*( 全体平均秒速/df['馬場'].map(馬場の平均秒速))*( 全体平均秒速/df['天気'].map(天気の平均秒速))*( 全体平均秒速/df['場id'].map(場idの平均秒速))*100\n",
        "\n"
      ],
      "metadata": {
        "id": "JBt40r0Hiew0"
      },
      "execution_count": null,
      "outputs": []
    },
    {
      "cell_type": "markdown",
      "source": [],
      "metadata": {
        "id": "j83axhC8LXRS"
      }
    },
    {
      "cell_type": "code",
      "source": [
        "# いらないデータを捨てる\n",
        "df.drop(['クラス','通過順','走破時間','開催','走破時間_秒','秒速','騎手','レース名','場名','場id','上がり','距離'],axis=1,inplace=True)"
      ],
      "metadata": {
        "id": "3R3L23eEBpj6"
      },
      "execution_count": null,
      "outputs": []
    },
    {
      "cell_type": "markdown",
      "source": [],
      "metadata": {
        "id": "5csEBPUrWRBX"
      }
    },
    {
      "cell_type": "code",
      "source": [
        "# 直近のデータからその馬の実力を定義する\n",
        "\n",
        "# 重みの設定（直前5行に対して加重）\n",
        "def weighted_average(series):\n",
        "    weights = np.arange(1, len(series) + 1)  # 重みを設定 (直近の行ほど大きな重み)\n",
        "    return np.average(series, weights=weights)\n",
        "\n",
        "# 同じ馬ごとの直前5行の加重平均を計算する関数\n",
        "def calculate_weighted_average_for_group(group, column_name, window=5):\n",
        "    results = []\n",
        "    for i in range(len(group)):\n",
        "        if i == 0:\n",
        "            # 最初の行は直前の行が存在しないのでNaNに設定\n",
        "            results.append(np.nan)\n",
        "        else:\n",
        "            # 現在の行を含まない直前の5行（またはそれ未満の行）を取得\n",
        "            start_index = max(0, i - window)\n",
        "            window_data = group.iloc[start_index:i][column_name]  # 自分自身を除外する\n",
        "            if len(window_data) == 0:\n",
        "                results.append(np.nan)  # データがない場合はNaNを返す\n",
        "            else:\n",
        "                avg = weighted_average(window_data)\n",
        "                results.append(avg)\n",
        "    return pd.Series(results, index=group.index)\n",
        "\n",
        "# 馬ごとにグループ化し、加重平均を計算\n",
        "df['調整後秒速馬_加重平均_直前5行'] = df.groupby('馬').apply(\n",
        "    lambda group: calculate_weighted_average_for_group(group, '調整後秒速', window=5)\n",
        ").reset_index(level=0, drop=True)"
      ],
      "metadata": {
        "id": "S9lHWrXFV97y"
      },
      "execution_count": null,
      "outputs": []
    },
    {
      "cell_type": "code",
      "source": [
        "import category_encoders as ce\n",
        "\n",
        "list_cols = ['性','天気','回り','齢','芝・ダート','馬場']\n",
        "\n",
        "# OneHotEncodeしたい列を指定。\n",
        "ce_ohe = ce.OneHotEncoder(cols=list_cols,handle_unknown='impute')\n",
        "\n",
        "# pd.DataFrameをそのまま突っ込む\n",
        "df = ce_ohe.fit_transform(df)"
      ],
      "metadata": {
        "id": "XcqCtDwR7IZ9"
      },
      "execution_count": null,
      "outputs": []
    },
    {
      "cell_type": "code",
      "source": [
        "# 2023年と2024年の日付を抽出してテストデータとする\n",
        "df_test = df[df['日付'].dt.year.isin([2023, 2024])]"
      ],
      "metadata": {
        "id": "m3BVfajm0OWz"
      },
      "execution_count": null,
      "outputs": []
    },
    {
      "cell_type": "code",
      "source": [
        "df = df.dropna(subset=['調整後秒速'])\n"
      ],
      "metadata": {
        "id": "nJOZaQ_aLMSW"
      },
      "execution_count": null,
      "outputs": []
    },
    {
      "cell_type": "code",
      "source": [
        "df_test = df_test.dropna(subset=['調整後秒速'])"
      ],
      "metadata": {
        "id": "LJEHNbTKNjJy"
      },
      "execution_count": null,
      "outputs": []
    },
    {
      "cell_type": "code",
      "source": [
        "exp1 = setup(data = df, target = '調整後秒速', session_id=123,ignore_features = ['馬','着順','上がり','日付','race_id','馬番'] ,normalize = True)"
      ],
      "metadata": {
        "colab": {
          "base_uri": "https://localhost:8080/",
          "height": 770
        },
        "id": "3mvqUrcU8lUq",
        "outputId": "73f64d91-387f-41c9-9548-d53ee2187ef6"
      },
      "execution_count": null,
      "outputs": [
        {
          "output_type": "display_data",
          "data": {
            "text/plain": [
              "<pandas.io.formats.style.Styler at 0x78343d8bbd00>"
            ],
            "text/html": [
              "<style type=\"text/css\">\n",
              "#T_9f4c6_row10_col1, #T_9f4c6_row14_col1 {\n",
              "  background-color: lightgreen;\n",
              "}\n",
              "</style>\n",
              "<table id=\"T_9f4c6\" class=\"dataframe\">\n",
              "  <thead>\n",
              "    <tr>\n",
              "      <th class=\"blank level0\" >&nbsp;</th>\n",
              "      <th id=\"T_9f4c6_level0_col0\" class=\"col_heading level0 col0\" >Description</th>\n",
              "      <th id=\"T_9f4c6_level0_col1\" class=\"col_heading level0 col1\" >Value</th>\n",
              "    </tr>\n",
              "  </thead>\n",
              "  <tbody>\n",
              "    <tr>\n",
              "      <th id=\"T_9f4c6_level0_row0\" class=\"row_heading level0 row0\" >0</th>\n",
              "      <td id=\"T_9f4c6_row0_col0\" class=\"data row0 col0\" >Session id</td>\n",
              "      <td id=\"T_9f4c6_row0_col1\" class=\"data row0 col1\" >123</td>\n",
              "    </tr>\n",
              "    <tr>\n",
              "      <th id=\"T_9f4c6_level0_row1\" class=\"row_heading level0 row1\" >1</th>\n",
              "      <td id=\"T_9f4c6_row1_col0\" class=\"data row1 col0\" >Target</td>\n",
              "      <td id=\"T_9f4c6_row1_col1\" class=\"data row1 col1\" >調整後秒速</td>\n",
              "    </tr>\n",
              "    <tr>\n",
              "      <th id=\"T_9f4c6_level0_row2\" class=\"row_heading level0 row2\" >2</th>\n",
              "      <td id=\"T_9f4c6_row2_col0\" class=\"data row2 col0\" >Target type</td>\n",
              "      <td id=\"T_9f4c6_row2_col1\" class=\"data row2 col1\" >Regression</td>\n",
              "    </tr>\n",
              "    <tr>\n",
              "      <th id=\"T_9f4c6_level0_row3\" class=\"row_heading level0 row3\" >3</th>\n",
              "      <td id=\"T_9f4c6_row3_col0\" class=\"data row3 col0\" >Original data shape</td>\n",
              "      <td id=\"T_9f4c6_row3_col1\" class=\"data row3 col1\" >(253473, 40)</td>\n",
              "    </tr>\n",
              "    <tr>\n",
              "      <th id=\"T_9f4c6_level0_row4\" class=\"row_heading level0 row4\" >4</th>\n",
              "      <td id=\"T_9f4c6_row4_col0\" class=\"data row4 col0\" >Transformed data shape</td>\n",
              "      <td id=\"T_9f4c6_row4_col1\" class=\"data row4 col1\" >(253473, 35)</td>\n",
              "    </tr>\n",
              "    <tr>\n",
              "      <th id=\"T_9f4c6_level0_row5\" class=\"row_heading level0 row5\" >5</th>\n",
              "      <td id=\"T_9f4c6_row5_col0\" class=\"data row5 col0\" >Transformed train set shape</td>\n",
              "      <td id=\"T_9f4c6_row5_col1\" class=\"data row5 col1\" >(177431, 35)</td>\n",
              "    </tr>\n",
              "    <tr>\n",
              "      <th id=\"T_9f4c6_level0_row6\" class=\"row_heading level0 row6\" >6</th>\n",
              "      <td id=\"T_9f4c6_row6_col0\" class=\"data row6 col0\" >Transformed test set shape</td>\n",
              "      <td id=\"T_9f4c6_row6_col1\" class=\"data row6 col1\" >(76042, 35)</td>\n",
              "    </tr>\n",
              "    <tr>\n",
              "      <th id=\"T_9f4c6_level0_row7\" class=\"row_heading level0 row7\" >7</th>\n",
              "      <td id=\"T_9f4c6_row7_col0\" class=\"data row7 col0\" >Ignore features</td>\n",
              "      <td id=\"T_9f4c6_row7_col1\" class=\"data row7 col1\" >6</td>\n",
              "    </tr>\n",
              "    <tr>\n",
              "      <th id=\"T_9f4c6_level0_row8\" class=\"row_heading level0 row8\" >8</th>\n",
              "      <td id=\"T_9f4c6_row8_col0\" class=\"data row8 col0\" >Numeric features</td>\n",
              "      <td id=\"T_9f4c6_row8_col1\" class=\"data row8 col1\" >34</td>\n",
              "    </tr>\n",
              "    <tr>\n",
              "      <th id=\"T_9f4c6_level0_row9\" class=\"row_heading level0 row9\" >9</th>\n",
              "      <td id=\"T_9f4c6_row9_col0\" class=\"data row9 col0\" >Rows with missing values</td>\n",
              "      <td id=\"T_9f4c6_row9_col1\" class=\"data row9 col1\" >14.7%</td>\n",
              "    </tr>\n",
              "    <tr>\n",
              "      <th id=\"T_9f4c6_level0_row10\" class=\"row_heading level0 row10\" >10</th>\n",
              "      <td id=\"T_9f4c6_row10_col0\" class=\"data row10 col0\" >Preprocess</td>\n",
              "      <td id=\"T_9f4c6_row10_col1\" class=\"data row10 col1\" >True</td>\n",
              "    </tr>\n",
              "    <tr>\n",
              "      <th id=\"T_9f4c6_level0_row11\" class=\"row_heading level0 row11\" >11</th>\n",
              "      <td id=\"T_9f4c6_row11_col0\" class=\"data row11 col0\" >Imputation type</td>\n",
              "      <td id=\"T_9f4c6_row11_col1\" class=\"data row11 col1\" >simple</td>\n",
              "    </tr>\n",
              "    <tr>\n",
              "      <th id=\"T_9f4c6_level0_row12\" class=\"row_heading level0 row12\" >12</th>\n",
              "      <td id=\"T_9f4c6_row12_col0\" class=\"data row12 col0\" >Numeric imputation</td>\n",
              "      <td id=\"T_9f4c6_row12_col1\" class=\"data row12 col1\" >mean</td>\n",
              "    </tr>\n",
              "    <tr>\n",
              "      <th id=\"T_9f4c6_level0_row13\" class=\"row_heading level0 row13\" >13</th>\n",
              "      <td id=\"T_9f4c6_row13_col0\" class=\"data row13 col0\" >Categorical imputation</td>\n",
              "      <td id=\"T_9f4c6_row13_col1\" class=\"data row13 col1\" >mode</td>\n",
              "    </tr>\n",
              "    <tr>\n",
              "      <th id=\"T_9f4c6_level0_row14\" class=\"row_heading level0 row14\" >14</th>\n",
              "      <td id=\"T_9f4c6_row14_col0\" class=\"data row14 col0\" >Normalize</td>\n",
              "      <td id=\"T_9f4c6_row14_col1\" class=\"data row14 col1\" >True</td>\n",
              "    </tr>\n",
              "    <tr>\n",
              "      <th id=\"T_9f4c6_level0_row15\" class=\"row_heading level0 row15\" >15</th>\n",
              "      <td id=\"T_9f4c6_row15_col0\" class=\"data row15 col0\" >Normalize method</td>\n",
              "      <td id=\"T_9f4c6_row15_col1\" class=\"data row15 col1\" >zscore</td>\n",
              "    </tr>\n",
              "    <tr>\n",
              "      <th id=\"T_9f4c6_level0_row16\" class=\"row_heading level0 row16\" >16</th>\n",
              "      <td id=\"T_9f4c6_row16_col0\" class=\"data row16 col0\" >Fold Generator</td>\n",
              "      <td id=\"T_9f4c6_row16_col1\" class=\"data row16 col1\" >KFold</td>\n",
              "    </tr>\n",
              "    <tr>\n",
              "      <th id=\"T_9f4c6_level0_row17\" class=\"row_heading level0 row17\" >17</th>\n",
              "      <td id=\"T_9f4c6_row17_col0\" class=\"data row17 col0\" >Fold Number</td>\n",
              "      <td id=\"T_9f4c6_row17_col1\" class=\"data row17 col1\" >10</td>\n",
              "    </tr>\n",
              "    <tr>\n",
              "      <th id=\"T_9f4c6_level0_row18\" class=\"row_heading level0 row18\" >18</th>\n",
              "      <td id=\"T_9f4c6_row18_col0\" class=\"data row18 col0\" >CPU Jobs</td>\n",
              "      <td id=\"T_9f4c6_row18_col1\" class=\"data row18 col1\" >-1</td>\n",
              "    </tr>\n",
              "    <tr>\n",
              "      <th id=\"T_9f4c6_level0_row19\" class=\"row_heading level0 row19\" >19</th>\n",
              "      <td id=\"T_9f4c6_row19_col0\" class=\"data row19 col0\" >Use GPU</td>\n",
              "      <td id=\"T_9f4c6_row19_col1\" class=\"data row19 col1\" >False</td>\n",
              "    </tr>\n",
              "    <tr>\n",
              "      <th id=\"T_9f4c6_level0_row20\" class=\"row_heading level0 row20\" >20</th>\n",
              "      <td id=\"T_9f4c6_row20_col0\" class=\"data row20 col0\" >Log Experiment</td>\n",
              "      <td id=\"T_9f4c6_row20_col1\" class=\"data row20 col1\" >False</td>\n",
              "    </tr>\n",
              "    <tr>\n",
              "      <th id=\"T_9f4c6_level0_row21\" class=\"row_heading level0 row21\" >21</th>\n",
              "      <td id=\"T_9f4c6_row21_col0\" class=\"data row21 col0\" >Experiment Name</td>\n",
              "      <td id=\"T_9f4c6_row21_col1\" class=\"data row21 col1\" >reg-default-name</td>\n",
              "    </tr>\n",
              "    <tr>\n",
              "      <th id=\"T_9f4c6_level0_row22\" class=\"row_heading level0 row22\" >22</th>\n",
              "      <td id=\"T_9f4c6_row22_col0\" class=\"data row22 col0\" >USI</td>\n",
              "      <td id=\"T_9f4c6_row22_col1\" class=\"data row22 col1\" >2c51</td>\n",
              "    </tr>\n",
              "  </tbody>\n",
              "</table>\n"
            ]
          },
          "metadata": {}
        }
      ]
    },
    {
      "cell_type": "code",
      "source": [
        "model = create_model('lightgbm')"
      ],
      "metadata": {
        "id": "Axa9_48CgK0k",
        "colab": {
          "base_uri": "https://localhost:8080/",
          "height": 456,
          "referenced_widgets": [
            "15a7572392e84276ab60774a62a6383b",
            "e2fbfffc44484c3db6fdfe83def5b33d",
            "50e24b430f7b4f1ab34e2cfffb835e47",
            "247b1135fdcf445f800adaa1f072c5b9",
            "40205915d25e4303bb18c92593a8165f",
            "6ff6db0a5dc74a6bbc48c6838ae0812b",
            "6321409b2f94468ca4e6e13f628f295d",
            "c845bc87d0b54f84bbc5125534e4eb6b",
            "03ad0906e273477d925b13958b5a5d41",
            "545662ed40c544ab81614aea5d36e437",
            "6d11642fa7b74969ac0947838d3d70ce"
          ]
        },
        "outputId": "78695ff8-7eeb-4ba9-9d9c-3f892923fdbd"
      },
      "execution_count": null,
      "outputs": [
        {
          "output_type": "display_data",
          "data": {
            "text/plain": [
              "<IPython.core.display.HTML object>"
            ],
            "text/html": []
          },
          "metadata": {}
        },
        {
          "output_type": "display_data",
          "data": {
            "text/plain": [
              "<pandas.io.formats.style.Styler at 0x78345576a470>"
            ],
            "text/html": [
              "<style type=\"text/css\">\n",
              "#T_39e7f_row10_col0, #T_39e7f_row10_col1, #T_39e7f_row10_col2, #T_39e7f_row10_col3, #T_39e7f_row10_col4, #T_39e7f_row10_col5 {\n",
              "  background: yellow;\n",
              "}\n",
              "</style>\n",
              "<table id=\"T_39e7f\" class=\"dataframe\">\n",
              "  <thead>\n",
              "    <tr>\n",
              "      <th class=\"blank level0\" >&nbsp;</th>\n",
              "      <th id=\"T_39e7f_level0_col0\" class=\"col_heading level0 col0\" >MAE</th>\n",
              "      <th id=\"T_39e7f_level0_col1\" class=\"col_heading level0 col1\" >MSE</th>\n",
              "      <th id=\"T_39e7f_level0_col2\" class=\"col_heading level0 col2\" >RMSE</th>\n",
              "      <th id=\"T_39e7f_level0_col3\" class=\"col_heading level0 col3\" >R2</th>\n",
              "      <th id=\"T_39e7f_level0_col4\" class=\"col_heading level0 col4\" >RMSLE</th>\n",
              "      <th id=\"T_39e7f_level0_col5\" class=\"col_heading level0 col5\" >MAPE</th>\n",
              "    </tr>\n",
              "    <tr>\n",
              "      <th class=\"index_name level0\" >Fold</th>\n",
              "      <th class=\"blank col0\" >&nbsp;</th>\n",
              "      <th class=\"blank col1\" >&nbsp;</th>\n",
              "      <th class=\"blank col2\" >&nbsp;</th>\n",
              "      <th class=\"blank col3\" >&nbsp;</th>\n",
              "      <th class=\"blank col4\" >&nbsp;</th>\n",
              "      <th class=\"blank col5\" >&nbsp;</th>\n",
              "    </tr>\n",
              "  </thead>\n",
              "  <tbody>\n",
              "    <tr>\n",
              "      <th id=\"T_39e7f_level0_row0\" class=\"row_heading level0 row0\" >0</th>\n",
              "      <td id=\"T_39e7f_row0_col0\" class=\"data row0 col0\" >22.6148</td>\n",
              "      <td id=\"T_39e7f_row0_col1\" class=\"data row0 col1\" >877.6219</td>\n",
              "      <td id=\"T_39e7f_row0_col2\" class=\"data row0 col2\" >29.6247</td>\n",
              "      <td id=\"T_39e7f_row0_col3\" class=\"data row0 col3\" >0.6402</td>\n",
              "      <td id=\"T_39e7f_row0_col4\" class=\"data row0 col4\" >0.0183</td>\n",
              "      <td id=\"T_39e7f_row0_col5\" class=\"data row0 col5\" >0.0139</td>\n",
              "    </tr>\n",
              "    <tr>\n",
              "      <th id=\"T_39e7f_level0_row1\" class=\"row_heading level0 row1\" >1</th>\n",
              "      <td id=\"T_39e7f_row1_col0\" class=\"data row1 col0\" >22.6920</td>\n",
              "      <td id=\"T_39e7f_row1_col1\" class=\"data row1 col1\" >875.8906</td>\n",
              "      <td id=\"T_39e7f_row1_col2\" class=\"data row1 col2\" >29.5954</td>\n",
              "      <td id=\"T_39e7f_row1_col3\" class=\"data row1 col3\" >0.6395</td>\n",
              "      <td id=\"T_39e7f_row1_col4\" class=\"data row1 col4\" >0.0183</td>\n",
              "      <td id=\"T_39e7f_row1_col5\" class=\"data row1 col5\" >0.0139</td>\n",
              "    </tr>\n",
              "    <tr>\n",
              "      <th id=\"T_39e7f_level0_row2\" class=\"row_heading level0 row2\" >2</th>\n",
              "      <td id=\"T_39e7f_row2_col0\" class=\"data row2 col0\" >22.7639</td>\n",
              "      <td id=\"T_39e7f_row2_col1\" class=\"data row2 col1\" >889.4528</td>\n",
              "      <td id=\"T_39e7f_row2_col2\" class=\"data row2 col2\" >29.8237</td>\n",
              "      <td id=\"T_39e7f_row2_col3\" class=\"data row2 col3\" >0.6273</td>\n",
              "      <td id=\"T_39e7f_row2_col4\" class=\"data row2 col4\" >0.0185</td>\n",
              "      <td id=\"T_39e7f_row2_col5\" class=\"data row2 col5\" >0.0140</td>\n",
              "    </tr>\n",
              "    <tr>\n",
              "      <th id=\"T_39e7f_level0_row3\" class=\"row_heading level0 row3\" >3</th>\n",
              "      <td id=\"T_39e7f_row3_col0\" class=\"data row3 col0\" >22.7330</td>\n",
              "      <td id=\"T_39e7f_row3_col1\" class=\"data row3 col1\" >875.1774</td>\n",
              "      <td id=\"T_39e7f_row3_col2\" class=\"data row3 col2\" >29.5834</td>\n",
              "      <td id=\"T_39e7f_row3_col3\" class=\"data row3 col3\" >0.6350</td>\n",
              "      <td id=\"T_39e7f_row3_col4\" class=\"data row3 col4\" >0.0182</td>\n",
              "      <td id=\"T_39e7f_row3_col5\" class=\"data row3 col5\" >0.0140</td>\n",
              "    </tr>\n",
              "    <tr>\n",
              "      <th id=\"T_39e7f_level0_row4\" class=\"row_heading level0 row4\" >4</th>\n",
              "      <td id=\"T_39e7f_row4_col0\" class=\"data row4 col0\" >22.7811</td>\n",
              "      <td id=\"T_39e7f_row4_col1\" class=\"data row4 col1\" >897.3094</td>\n",
              "      <td id=\"T_39e7f_row4_col2\" class=\"data row4 col2\" >29.9551</td>\n",
              "      <td id=\"T_39e7f_row4_col3\" class=\"data row4 col3\" >0.6378</td>\n",
              "      <td id=\"T_39e7f_row4_col4\" class=\"data row4 col4\" >0.0185</td>\n",
              "      <td id=\"T_39e7f_row4_col5\" class=\"data row4 col5\" >0.0140</td>\n",
              "    </tr>\n",
              "    <tr>\n",
              "      <th id=\"T_39e7f_level0_row5\" class=\"row_heading level0 row5\" >5</th>\n",
              "      <td id=\"T_39e7f_row5_col0\" class=\"data row5 col0\" >22.6044</td>\n",
              "      <td id=\"T_39e7f_row5_col1\" class=\"data row5 col1\" >861.1636</td>\n",
              "      <td id=\"T_39e7f_row5_col2\" class=\"data row5 col2\" >29.3456</td>\n",
              "      <td id=\"T_39e7f_row5_col3\" class=\"data row5 col3\" >0.6405</td>\n",
              "      <td id=\"T_39e7f_row5_col4\" class=\"data row5 col4\" >0.0181</td>\n",
              "      <td id=\"T_39e7f_row5_col5\" class=\"data row5 col5\" >0.0139</td>\n",
              "    </tr>\n",
              "    <tr>\n",
              "      <th id=\"T_39e7f_level0_row6\" class=\"row_heading level0 row6\" >6</th>\n",
              "      <td id=\"T_39e7f_row6_col0\" class=\"data row6 col0\" >22.6704</td>\n",
              "      <td id=\"T_39e7f_row6_col1\" class=\"data row6 col1\" >872.4779</td>\n",
              "      <td id=\"T_39e7f_row6_col2\" class=\"data row6 col2\" >29.5377</td>\n",
              "      <td id=\"T_39e7f_row6_col3\" class=\"data row6 col3\" >0.6347</td>\n",
              "      <td id=\"T_39e7f_row6_col4\" class=\"data row6 col4\" >0.0183</td>\n",
              "      <td id=\"T_39e7f_row6_col5\" class=\"data row6 col5\" >0.0139</td>\n",
              "    </tr>\n",
              "    <tr>\n",
              "      <th id=\"T_39e7f_level0_row7\" class=\"row_heading level0 row7\" >7</th>\n",
              "      <td id=\"T_39e7f_row7_col0\" class=\"data row7 col0\" >22.5146</td>\n",
              "      <td id=\"T_39e7f_row7_col1\" class=\"data row7 col1\" >866.6508</td>\n",
              "      <td id=\"T_39e7f_row7_col2\" class=\"data row7 col2\" >29.4389</td>\n",
              "      <td id=\"T_39e7f_row7_col3\" class=\"data row7 col3\" >0.6439</td>\n",
              "      <td id=\"T_39e7f_row7_col4\" class=\"data row7 col4\" >0.0182</td>\n",
              "      <td id=\"T_39e7f_row7_col5\" class=\"data row7 col5\" >0.0138</td>\n",
              "    </tr>\n",
              "    <tr>\n",
              "      <th id=\"T_39e7f_level0_row8\" class=\"row_heading level0 row8\" >8</th>\n",
              "      <td id=\"T_39e7f_row8_col0\" class=\"data row8 col0\" >22.5760</td>\n",
              "      <td id=\"T_39e7f_row8_col1\" class=\"data row8 col1\" >854.4171</td>\n",
              "      <td id=\"T_39e7f_row8_col2\" class=\"data row8 col2\" >29.2304</td>\n",
              "      <td id=\"T_39e7f_row8_col3\" class=\"data row8 col3\" >0.6572</td>\n",
              "      <td id=\"T_39e7f_row8_col4\" class=\"data row8 col4\" >0.0180</td>\n",
              "      <td id=\"T_39e7f_row8_col5\" class=\"data row8 col5\" >0.0139</td>\n",
              "    </tr>\n",
              "    <tr>\n",
              "      <th id=\"T_39e7f_level0_row9\" class=\"row_heading level0 row9\" >9</th>\n",
              "      <td id=\"T_39e7f_row9_col0\" class=\"data row9 col0\" >22.8203</td>\n",
              "      <td id=\"T_39e7f_row9_col1\" class=\"data row9 col1\" >939.1801</td>\n",
              "      <td id=\"T_39e7f_row9_col2\" class=\"data row9 col2\" >30.6460</td>\n",
              "      <td id=\"T_39e7f_row9_col3\" class=\"data row9 col3\" >0.6295</td>\n",
              "      <td id=\"T_39e7f_row9_col4\" class=\"data row9 col4\" >0.0191</td>\n",
              "      <td id=\"T_39e7f_row9_col5\" class=\"data row9 col5\" >0.0141</td>\n",
              "    </tr>\n",
              "    <tr>\n",
              "      <th id=\"T_39e7f_level0_row10\" class=\"row_heading level0 row10\" >Mean</th>\n",
              "      <td id=\"T_39e7f_row10_col0\" class=\"data row10 col0\" >22.6770</td>\n",
              "      <td id=\"T_39e7f_row10_col1\" class=\"data row10 col1\" >880.9342</td>\n",
              "      <td id=\"T_39e7f_row10_col2\" class=\"data row10 col2\" >29.6781</td>\n",
              "      <td id=\"T_39e7f_row10_col3\" class=\"data row10 col3\" >0.6386</td>\n",
              "      <td id=\"T_39e7f_row10_col4\" class=\"data row10 col4\" >0.0183</td>\n",
              "      <td id=\"T_39e7f_row10_col5\" class=\"data row10 col5\" >0.0139</td>\n",
              "    </tr>\n",
              "    <tr>\n",
              "      <th id=\"T_39e7f_level0_row11\" class=\"row_heading level0 row11\" >Std</th>\n",
              "      <td id=\"T_39e7f_row11_col0\" class=\"data row11 col0\" >0.0938</td>\n",
              "      <td id=\"T_39e7f_row11_col1\" class=\"data row11 col1\" >22.7429</td>\n",
              "      <td id=\"T_39e7f_row11_col2\" class=\"data row11 col2\" >0.3797</td>\n",
              "      <td id=\"T_39e7f_row11_col3\" class=\"data row11 col3\" >0.0079</td>\n",
              "      <td id=\"T_39e7f_row11_col4\" class=\"data row11 col4\" >0.0003</td>\n",
              "      <td id=\"T_39e7f_row11_col5\" class=\"data row11 col5\" >0.0001</td>\n",
              "    </tr>\n",
              "  </tbody>\n",
              "</table>\n"
            ]
          },
          "metadata": {}
        },
        {
          "output_type": "display_data",
          "data": {
            "text/plain": [
              "Processing:   0%|          | 0/4 [00:00<?, ?it/s]"
            ],
            "application/vnd.jupyter.widget-view+json": {
              "version_major": 2,
              "version_minor": 0,
              "model_id": "15a7572392e84276ab60774a62a6383b"
            }
          },
          "metadata": {
            "application/vnd.jupyter.widget-view+json": {
              "colab": {
                "custom_widget_manager": {
                  "url": "https://ssl.gstatic.com/colaboratory-static/widgets/colab-cdn-widget-manager/2b70e893a8ba7c0f/manager.min.js"
                }
              }
            }
          }
        },
        {
          "output_type": "display_data",
          "data": {
            "text/plain": [
              "<IPython.core.display.HTML object>"
            ],
            "text/html": []
          },
          "metadata": {}
        }
      ]
    },
    {
      "cell_type": "code",
      "source": [
        "final_model = finalize_model(model)"
      ],
      "metadata": {
        "id": "Qg4Pmz-g_kbS"
      },
      "execution_count": null,
      "outputs": []
    },
    {
      "cell_type": "code",
      "source": [
        "result = predict_model(final_model, df_test)"
      ],
      "metadata": {
        "colab": {
          "base_uri": "https://localhost:8080/",
          "height": 80
        },
        "id": "2ucbmOBW_zjM",
        "outputId": "2373b30a-8eac-45b3-bf91-ae6101050322"
      },
      "execution_count": null,
      "outputs": [
        {
          "output_type": "display_data",
          "data": {
            "text/plain": [
              "<pandas.io.formats.style.Styler at 0x783456d2e4d0>"
            ],
            "text/html": [
              "<style type=\"text/css\">\n",
              "</style>\n",
              "<table id=\"T_76bf9\" class=\"dataframe\">\n",
              "  <thead>\n",
              "    <tr>\n",
              "      <th class=\"blank level0\" >&nbsp;</th>\n",
              "      <th id=\"T_76bf9_level0_col0\" class=\"col_heading level0 col0\" >Model</th>\n",
              "      <th id=\"T_76bf9_level0_col1\" class=\"col_heading level0 col1\" >MAE</th>\n",
              "      <th id=\"T_76bf9_level0_col2\" class=\"col_heading level0 col2\" >MSE</th>\n",
              "      <th id=\"T_76bf9_level0_col3\" class=\"col_heading level0 col3\" >RMSE</th>\n",
              "      <th id=\"T_76bf9_level0_col4\" class=\"col_heading level0 col4\" >R2</th>\n",
              "      <th id=\"T_76bf9_level0_col5\" class=\"col_heading level0 col5\" >RMSLE</th>\n",
              "      <th id=\"T_76bf9_level0_col6\" class=\"col_heading level0 col6\" >MAPE</th>\n",
              "    </tr>\n",
              "  </thead>\n",
              "  <tbody>\n",
              "    <tr>\n",
              "      <th id=\"T_76bf9_level0_row0\" class=\"row_heading level0 row0\" >0</th>\n",
              "      <td id=\"T_76bf9_row0_col0\" class=\"data row0 col0\" >Light Gradient Boosting Machine</td>\n",
              "      <td id=\"T_76bf9_row0_col1\" class=\"data row0 col1\" >22.8697</td>\n",
              "      <td id=\"T_76bf9_row0_col2\" class=\"data row0 col2\" >907.1858</td>\n",
              "      <td id=\"T_76bf9_row0_col3\" class=\"data row0 col3\" >30.1195</td>\n",
              "      <td id=\"T_76bf9_row0_col4\" class=\"data row0 col4\" >0.6227</td>\n",
              "      <td id=\"T_76bf9_row0_col5\" class=\"data row0 col5\" >0.0187</td>\n",
              "      <td id=\"T_76bf9_row0_col6\" class=\"data row0 col6\" >0.0140</td>\n",
              "    </tr>\n",
              "  </tbody>\n",
              "</table>\n"
            ]
          },
          "metadata": {}
        }
      ]
    },
    {
      "cell_type": "code",
      "source": [
        "plot_model(model, plot='feature') #特徴量プロット"
      ],
      "metadata": {
        "colab": {
          "base_uri": "https://localhost:8080/",
          "height": 485
        },
        "id": "6lBDylrhN7zH",
        "outputId": "12356042-bb3e-4325-d957-cb3fbb3ad798"
      },
      "execution_count": null,
      "outputs": [
        {
          "output_type": "display_data",
          "data": {
            "text/plain": [
              "<IPython.core.display.HTML object>"
            ],
            "text/html": []
          },
          "metadata": {}
        },
        {
          "output_type": "display_data",
          "data": {
            "text/plain": [
              "<Figure size 800x500 with 1 Axes>"
            ],
            "image/png": "[encoded data removed]"
          },
          "metadata": {}
        }
      ]
    },
    {
      "cell_type": "code",
      "source": [
        "# 次に、df_testに新しく 'result' 列を作成し、その中に result を埋め込みます\n",
        "df_test['result'] = result.iloc[:, -1]"
      ],
      "metadata": {
        "id": "9l11cvev_3Eq"
      },
      "execution_count": null,
      "outputs": []
    },
    {
      "cell_type": "code",
      "source": [
        "# 実際に一番だった馬に印付け\n",
        "df_test['result_flag'] = df_test['着順'].apply(lambda x: 1 if x == 1.0 else 0)\n",
        "\n",
        "# 各race_idごとのresult列の最大値のインデックスを取得\n",
        "max_indices = df_test.groupby('race_id')['result'].idxmax()\n",
        "# 新しい列 'is_max_result' を作成し、最大値の行に1、それ以外に0を設定\n",
        "df_test['is_max_result'] = 0\n",
        "df_test.loc[max_indices, 'is_max_result'] = 1\n",
        "\n",
        "# 各レース名と日付ごとにresult列の最大値のインデックスを取得\n",
        "idx = df_test.groupby('race_id')['調整後秒速'].idxmax()\n",
        "\n",
        "# 新しい列 'is_max_result' を作成し、最大値の行に1、それ以外に0を設定\n",
        "df_test['is_max_調整後秒速'] = 0\n",
        "df_test.loc[idx, 'is_max_調整後秒速'] = 1"
      ],
      "metadata": {
        "id": "aoWIS-RiAlOA"
      },
      "execution_count": null,
      "outputs": []
    },
    {
      "cell_type": "code",
      "source": [
        "#単純に全て賭けた場合\n",
        "num_rows = len(idx)\n",
        "total_result = (df_test['オッズ'] * df_test['is_max_result']*df_test['result_flag']).sum() / num_rows\n",
        "print(total_result)"
      ],
      "metadata": {
        "colab": {
          "base_uri": "https://localhost:8080/"
        },
        "id": "X4efurvFEgNv",
        "outputId": "f879d356-5521-4d02-c865-b0dff1393f28"
      },
      "execution_count": null,
      "outputs": [
        {
          "output_type": "stream",
          "name": "stdout",
          "text": [
            "0.7851956358164034\n"
          ]
        }
      ]
    },
    {
      "cell_type": "markdown",
      "source": [
        "このように予想した物を単勝で全て賭けた場合、平均の0.8にわずかに及ばない結果になります。\n",
        "そのため、次は賭け方を変えて見ることにしました。このように予測において2番目との馬とどれだけ優位があるかを調べてそれを数値化しました。"
      ],
      "metadata": {
        "id": "dVMlok7wHOrW"
      }
    },
    {
      "cell_type": "code",
      "source": [
        "# race_idごとにグループ化して、resultを降順にソート\n",
        "df_sorted = df_test.sort_values(by=['race_id', 'result'], ascending=[True, False])\n",
        "\n",
        "# race_idごとに、1番目と2番目のresultを抽出\n",
        "df_top2 = df_sorted.groupby('race_id').head(2)\n",
        "\n",
        "# 1番目と2番目の値を引いて、それを1番目の値で割る\n",
        "def calculate_ratio(group):\n",
        "    if len(group) < 2:\n",
        "        return None  # 2つ以上の結果がない場合は計算しない\n",
        "    first = group.iloc[0]['result']\n",
        "    second = group.iloc[1]['result']\n",
        "    return (first - second) / first\n",
        "\n",
        "# 各race_idごとに計算\n",
        "result_ratios2 = df_top2.groupby('race_id').apply(calculate_ratio).dropna()\n",
        "\n",
        "# 元のデータフレームにこの結果を追加\n",
        "df_test['calculated_ratio'] = df_test['race_id'].map(result_ratios2)\n"
      ],
      "metadata": {
        "id": "lfC3K4Ux8xf1"
      },
      "execution_count": null,
      "outputs": []
    },
    {
      "cell_type": "code",
      "source": [
        "# race_idごとにグループ化して、調整後秒速を降順にソート\n",
        "df_sorted = df_test.sort_values(by=['race_id', '調整後秒速'], ascending=[True, False])\n",
        "\n",
        "# race_idごとに、1番目と2番目の調整後秒速を抽出\n",
        "df_top2 = df_sorted.groupby('race_id').head(2)\n",
        "\n",
        "# 1番目と2番目の値を引いて、それを1番目の値で割る\n",
        "def calculate_ratio(group):\n",
        "    if len(group) < 2:\n",
        "        return None  # 2つ以上の結果がない場合は計算しない\n",
        "    first = group.iloc[0]['調整後秒速']\n",
        "    second = group.iloc[1]['調整後秒速']\n",
        "    return (first - second) / first\n",
        "\n",
        "# 各race_idごとに計算\n",
        "result_ratios1 = df_top2.groupby('race_id').apply(calculate_ratio).dropna()\n",
        "\n",
        "print(result_ratios1)"
      ],
      "metadata": {
        "colab": {
          "base_uri": "https://localhost:8080/"
        },
        "id": "6msqA85Nxfqu",
        "outputId": "54df3612-27ed-4e7c-a9cd-8d96a2b0e3ab"
      },
      "execution_count": null,
      "outputs": [
        {
          "output_type": "stream",
          "name": "stdout",
          "text": [
            "race_id\n",
            "202301010101    0.000000\n",
            "202301010102    0.016949\n",
            "202301010103    0.000000\n",
            "202301010104    0.000000\n",
            "202301010105    0.009174\n",
            "                  ...   \n",
            "202410030808    0.000000\n",
            "202410030809    0.000000\n",
            "202410030810    0.000000\n",
            "202410030811    0.000000\n",
            "202410030812    0.000000\n",
            "Length: 5316, dtype: float64\n"
          ]
        }
      ]
    },
    {
      "cell_type": "markdown",
      "source": [
        "オッヅが低い馬程この機械学習に反映できていない要素（調教や血統等）が反映されていると考え、オッヅで割ります。そしてその値で上位1%の馬のみに印をつけます。"
      ],
      "metadata": {
        "id": "mhN49UhpOJB-"
      }
    },
    {
      "cell_type": "code",
      "source": [
        "# calculated_ratio列をオッづを割る\n",
        "df_test['weighted_ratio'] =  df_test['calculated_ratio'] *df_test['is_max_result']/df_test['オッズ']\n",
        "\n",
        "# 上位10%の閾値を計算\n",
        "threshold = np.percentile(df_test['weighted_ratio'].dropna(), 99)\n",
        "\n",
        "# 上位10%に1、それ以外に0を割り当てる\n",
        "df_test['top_1_percent'] = np.where(df_test['weighted_ratio'] >= threshold, 1, 0)\n"
      ],
      "metadata": {
        "id": "Q3RrHhgEA8BE"
      },
      "execution_count": null,
      "outputs": []
    },
    {
      "cell_type": "code",
      "source": [
        "# top_10_percent列で1の数をカウント\n",
        "count_top_10_percent = df_test['top_1_percent'].sum()\n",
        "total_result = (df_test['オッズ'] * df_test['is_max_result']*df_test['result_flag']*df_test['top_1_percent']).sum() / count_top_10_percent\n",
        "print(total_result)"
      ],
      "metadata": {
        "colab": {
          "base_uri": "https://localhost:8080/"
        },
        "id": "8xkj3stGBjLf",
        "outputId": "98475847-44e9-4056-ee6a-03ffd93d1ba2"
      },
      "execution_count": null,
      "outputs": [
        {
          "output_type": "stream",
          "name": "stdout",
          "text": [
            "0.8536451169188446\n"
          ]
        }
      ]
    },
    {
      "cell_type": "markdown",
      "source": [
        "先程よりも数値が上がって、人間が平均的に予想した値である0.8を超えられるようになりました。月ごとのリターンを見てみると次のようになりました。"
      ],
      "metadata": {
        "id": "mUiALkFHPL5h"
      }
    },
    {
      "cell_type": "code",
      "source": [
        "# 月ごとにグループ化してリターンを計算\n",
        "monthly_results_before = df_test.groupby(df_test['日付'].dt.to_period('M')).apply(\n",
        "    lambda x: (x['オッズ'] * x['is_max_result'] * x['result_flag'] ).sum() / x['is_max_result'].sum()\n",
        ")\n",
        "\n",
        "# 結果を表示\n",
        "print(monthly_results_before)\n"
      ],
      "metadata": {
        "colab": {
          "base_uri": "https://localhost:8080/"
        },
        "id": "U9gfxq3qtdzW",
        "outputId": "33df5b4c-6a21-4e70-968c-b77e7f3df67f"
      },
      "execution_count": null,
      "outputs": [
        {
          "output_type": "stream",
          "name": "stdout",
          "text": [
            "日付\n",
            "2023-01    0.911000\n",
            "2023-02    0.747727\n",
            "2023-03    0.835088\n",
            "2023-04    0.791667\n",
            "2023-05    0.857292\n",
            "2023-06    0.765909\n",
            "2023-07    0.778274\n",
            "2023-08    0.787500\n",
            "2023-09    0.748485\n",
            "2023-10    0.706410\n",
            "2023-11    0.695455\n",
            "2023-12    0.684722\n",
            "2024-01    0.895139\n",
            "2024-02    0.821875\n",
            "2024-03    0.952083\n",
            "2024-04    0.710764\n",
            "2024-05    0.725000\n",
            "2024-06    0.783631\n",
            "2024-07    0.662719\n",
            "2024-08    0.818750\n",
            "Freq: M, dtype: float64\n"
          ]
        }
      ]
    },
    {
      "cell_type": "code",
      "source": [
        "# 月ごとにグループ化してリターンを計算\n",
        "monthly_results_after = df_test.groupby(df_test['日付'].dt.to_period('M')).apply(\n",
        "    lambda x: (x['オッズ'] * x['is_max_result'] * x['result_flag'] * x['top_1_percent']).sum() / x['top_1_percent'].sum()\n",
        ")\n",
        "\n",
        "# 結果を表示\n",
        "print(monthly_results_after)"
      ],
      "metadata": {
        "colab": {
          "base_uri": "https://localhost:8080/"
        },
        "id": "eI7lwLevs7cO",
        "outputId": "b7fc43b7-d152-4683-9b4b-fcad34871370"
      },
      "execution_count": null,
      "outputs": [
        {
          "output_type": "stream",
          "name": "stdout",
          "text": [
            "日付\n",
            "2023-01    1.186842\n",
            "2023-02    0.757143\n",
            "2023-03    0.795652\n",
            "2023-04    0.534615\n",
            "2023-05    1.012121\n",
            "2023-06    0.806452\n",
            "2023-07    0.772222\n",
            "2023-08    0.997368\n",
            "2023-09    1.139024\n",
            "2023-10    0.676316\n",
            "2023-11    0.882353\n",
            "2023-12    1.160000\n",
            "2024-01    0.789474\n",
            "2024-02    1.129545\n",
            "2024-03    0.639062\n",
            "2024-04    0.856000\n",
            "2024-05    1.012000\n",
            "2024-06    0.695556\n",
            "2024-07    0.718182\n",
            "2024-08    0.580000\n",
            "Freq: M, dtype: float64\n"
          ]
        }
      ]
    }
  ]
}